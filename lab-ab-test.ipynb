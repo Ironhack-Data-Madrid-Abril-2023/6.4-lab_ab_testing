{
 "cells": [
  {
   "attachments": {},
   "cell_type": "markdown",
   "id": "angry-pearl",
   "metadata": {
    "toc": true
   },
   "source": [
    "<h1>Table of Contents<span class=\"tocSkip\"></span></h1>\n",
    "<div class=\"toc\"><ul class=\"toc-item\"><li><span><a href=\"#AB-Testing\" data-toc-modified-id=\"AB-Testing-1\"><span class=\"toc-item-num\">1&nbsp;&nbsp;</span>AB-Testing</a></span></li></ul></div>"
   ]
  },
  {
   "attachments": {},
   "cell_type": "markdown",
   "id": "c92ba6e0",
   "metadata": {},
   "source": [
    "# AB-Testing\n",
    "\n",
    "![cats](images/cats.jpeg)\n",
    "\n",
    "\n",
    "Imaginad que somos los cientificos de datos de la empresa de videojuegos Tactile Entertainment. Los desarrolladores del juego Cookie Cats pretenden introducir un cambio en el juego para aumentar la retencion de los jugadores. En cierto nivel del juego los jugadores se encuentran una puerta que les obliga a esperar o a pagar la app. Actualmente la puerta se encuentra en nivel 30 y se pretende pasar al nivel 40, para comprobar la retencion a 1 y 7 dias. Antes de realizar el cambio definitivo en el juego se raliza un test AB.\n",
    "\n",
    "Los datos estan alojados en `data/cookie_cats.csv`. Nuestro grupo de control sera la version actual `gate_30` y el grupo de tratamiento sera la version `gate_40`. Debemos realizar el test para 1 dia de retencion `retention_1` y para 7 dias `retention_7`."
   ]
  },
  {
   "cell_type": "code",
   "execution_count": 22,
   "id": "ac3b2f52",
   "metadata": {},
   "outputs": [],
   "source": [
    "# librerias\n",
    "\n",
    "import pandas as pd\n",
    "import numpy as np\n",
    "\n",
    "from statsmodels.stats.proportion import proportions_ztest, proportion_confint\n",
    "from scipy.stats import norm, sem\n",
    "\n",
    "import pylab as plt\n",
    "from bayes import *"
   ]
  },
  {
   "cell_type": "code",
   "execution_count": 23,
   "id": "7fe515c2",
   "metadata": {},
   "outputs": [],
   "source": [
    "# datos\n",
    "datos = pd.read_csv(r\"C:\\Users\\Juan\\Desktop\\IronHack_apuntes\\6.4-lab_ab_testing\\data\\cookie_cats.csv\")\n"
   ]
  },
  {
   "cell_type": "code",
   "execution_count": 24,
   "id": "73daa4de",
   "metadata": {},
   "outputs": [
    {
     "data": {
      "text/html": [
       "<div>\n",
       "<style scoped>\n",
       "    .dataframe tbody tr th:only-of-type {\n",
       "        vertical-align: middle;\n",
       "    }\n",
       "\n",
       "    .dataframe tbody tr th {\n",
       "        vertical-align: top;\n",
       "    }\n",
       "\n",
       "    .dataframe thead th {\n",
       "        text-align: right;\n",
       "    }\n",
       "</style>\n",
       "<table border=\"1\" class=\"dataframe\">\n",
       "  <thead>\n",
       "    <tr style=\"text-align: right;\">\n",
       "      <th></th>\n",
       "      <th>userid</th>\n",
       "      <th>version</th>\n",
       "      <th>sum_gamerounds</th>\n",
       "      <th>retention_1</th>\n",
       "      <th>retention_7</th>\n",
       "    </tr>\n",
       "  </thead>\n",
       "  <tbody>\n",
       "    <tr>\n",
       "      <th>0</th>\n",
       "      <td>116</td>\n",
       "      <td>gate_30</td>\n",
       "      <td>3</td>\n",
       "      <td>False</td>\n",
       "      <td>False</td>\n",
       "    </tr>\n",
       "    <tr>\n",
       "      <th>1</th>\n",
       "      <td>337</td>\n",
       "      <td>gate_30</td>\n",
       "      <td>38</td>\n",
       "      <td>True</td>\n",
       "      <td>False</td>\n",
       "    </tr>\n",
       "    <tr>\n",
       "      <th>2</th>\n",
       "      <td>377</td>\n",
       "      <td>gate_40</td>\n",
       "      <td>165</td>\n",
       "      <td>True</td>\n",
       "      <td>False</td>\n",
       "    </tr>\n",
       "    <tr>\n",
       "      <th>3</th>\n",
       "      <td>483</td>\n",
       "      <td>gate_40</td>\n",
       "      <td>1</td>\n",
       "      <td>False</td>\n",
       "      <td>False</td>\n",
       "    </tr>\n",
       "    <tr>\n",
       "      <th>4</th>\n",
       "      <td>488</td>\n",
       "      <td>gate_40</td>\n",
       "      <td>179</td>\n",
       "      <td>True</td>\n",
       "      <td>True</td>\n",
       "    </tr>\n",
       "    <tr>\n",
       "      <th>...</th>\n",
       "      <td>...</td>\n",
       "      <td>...</td>\n",
       "      <td>...</td>\n",
       "      <td>...</td>\n",
       "      <td>...</td>\n",
       "    </tr>\n",
       "    <tr>\n",
       "      <th>90184</th>\n",
       "      <td>9999441</td>\n",
       "      <td>gate_40</td>\n",
       "      <td>97</td>\n",
       "      <td>True</td>\n",
       "      <td>False</td>\n",
       "    </tr>\n",
       "    <tr>\n",
       "      <th>90185</th>\n",
       "      <td>9999479</td>\n",
       "      <td>gate_40</td>\n",
       "      <td>30</td>\n",
       "      <td>False</td>\n",
       "      <td>False</td>\n",
       "    </tr>\n",
       "    <tr>\n",
       "      <th>90186</th>\n",
       "      <td>9999710</td>\n",
       "      <td>gate_30</td>\n",
       "      <td>28</td>\n",
       "      <td>True</td>\n",
       "      <td>False</td>\n",
       "    </tr>\n",
       "    <tr>\n",
       "      <th>90187</th>\n",
       "      <td>9999768</td>\n",
       "      <td>gate_40</td>\n",
       "      <td>51</td>\n",
       "      <td>True</td>\n",
       "      <td>False</td>\n",
       "    </tr>\n",
       "    <tr>\n",
       "      <th>90188</th>\n",
       "      <td>9999861</td>\n",
       "      <td>gate_40</td>\n",
       "      <td>16</td>\n",
       "      <td>False</td>\n",
       "      <td>False</td>\n",
       "    </tr>\n",
       "  </tbody>\n",
       "</table>\n",
       "<p>90189 rows × 5 columns</p>\n",
       "</div>"
      ],
      "text/plain": [
       "        userid  version  sum_gamerounds  retention_1  retention_7\n",
       "0          116  gate_30               3        False        False\n",
       "1          337  gate_30              38         True        False\n",
       "2          377  gate_40             165         True        False\n",
       "3          483  gate_40               1        False        False\n",
       "4          488  gate_40             179         True         True\n",
       "...        ...      ...             ...          ...          ...\n",
       "90184  9999441  gate_40              97         True        False\n",
       "90185  9999479  gate_40              30        False        False\n",
       "90186  9999710  gate_30              28         True        False\n",
       "90187  9999768  gate_40              51         True        False\n",
       "90188  9999861  gate_40              16        False        False\n",
       "\n",
       "[90189 rows x 5 columns]"
      ]
     },
     "execution_count": 24,
     "metadata": {},
     "output_type": "execute_result"
    }
   ],
   "source": [
    "datos"
   ]
  },
  {
   "cell_type": "code",
   "execution_count": 25,
   "id": "8e6eb9ce",
   "metadata": {},
   "outputs": [
    {
     "data": {
      "text/plain": [
       "gate_40    45489\n",
       "gate_30    44700\n",
       "Name: version, dtype: int64"
      ]
     },
     "execution_count": 25,
     "metadata": {},
     "output_type": "execute_result"
    }
   ],
   "source": [
    "datos[\"version\"].value_counts()"
   ]
  },
  {
   "cell_type": "code",
   "execution_count": 26,
   "id": "c683e792",
   "metadata": {},
   "outputs": [],
   "source": [
    "ret301= ((datos[\"version\"]==\"gate_30\") & (datos[\"retention_1\"]==True)).value_counts()\n",
    "ret401=((datos[\"version\"]==\"gate_40\") & (datos[\"retention_1\"]==True)).value_counts()\n",
    "ret307=((datos[\"version\"]==\"gate_30\") & (datos[\"retention_7\"]==True)).value_counts()\n",
    "ret407 = ((datos[\"version\"]==\"gate_40\") & (datos[\"retention_7\"]==True)).value_counts()\n",
    "\n"
   ]
  },
  {
   "cell_type": "code",
   "execution_count": 27,
   "id": "30411a9a",
   "metadata": {},
   "outputs": [
    {
     "data": {
      "text/plain": [
       "20119"
      ]
     },
     "execution_count": 27,
     "metadata": {},
     "output_type": "execute_result"
    }
   ],
   "source": [
    "ret401[1] #no entiendo muy bien pero en las variables quedan guardadas los dos valores de de la retention, \n",
    "          #da igual si es T o F, con esto accedo a la que quiero en cualquier caso"
   ]
  },
  {
   "cell_type": "code",
   "execution_count": 28,
   "id": "38f422cb",
   "metadata": {},
   "outputs": [
    {
     "name": "stdout",
     "output_type": "stream",
     "text": [
      "Retencion a 1 dia para puerta en el 30 => 0.4481879194630872\n",
      "Retencion a 7 dias para puerta en el 30 => 0.19020134228187918\n",
      "Retencion a 1 dia para puerta en el 40 => 0.44228274967574577\n",
      "Retencion a 7 dias para puerta en el 40 => 0.18200004396667327\n"
     ]
    }
   ],
   "source": [
    "# muestreo\n",
    "print(\"Retencion a 1 dia para puerta en el 30\",\"=>\", ret301[1]/44700)\n",
    "print(\"Retencion a 7 dias para puerta en el 30\",\"=>\",ret307[1]/44700)\n",
    "print(\"Retencion a 1 dia para puerta en el 40\" ,\"=>\",ret401[1]/45489)\n",
    "print(\"Retencion a 7 dias para puerta en el 40\",\"=>\", ret407[1]/45489)"
   ]
  },
  {
   "cell_type": "code",
   "execution_count": 29,
   "id": "8445f0a0",
   "metadata": {},
   "outputs": [
    {
     "data": {
      "text/plain": [
       "False    70155\n",
       "True     20034\n",
       "dtype: int64"
      ]
     },
     "execution_count": 29,
     "metadata": {},
     "output_type": "execute_result"
    }
   ],
   "source": [
    "ret301"
   ]
  },
  {
   "cell_type": "code",
   "execution_count": 30,
   "id": "5b90c429",
   "metadata": {},
   "outputs": [],
   "source": [
    "# testeo para retention_1\n",
    "a30, b30= ret301[1]+1, 1+44700-ret301[1]\n",
    "a40, b40 = ret401[1]+1, 1+45489-ret401[1]\n",
    "\n",
    "beta_30= beta(a30, b30)\n",
    "beta_40=beta(a40, b40)\n",
    "beta_30.mean(), beta_40.mean()\n",
    "ret1 = beta_30, beta_40"
   ]
  },
  {
   "cell_type": "code",
   "execution_count": 31,
   "id": "62808c01",
   "metadata": {},
   "outputs": [
    {
     "data": {
      "text/plain": [
       "(0.44819023757326293, 0.44228528719966587)"
      ]
     },
     "execution_count": 31,
     "metadata": {},
     "output_type": "execute_result"
    }
   ],
   "source": [
    "beta_30.mean(), beta_40.mean()"
   ]
  },
  {
   "cell_type": "code",
   "execution_count": 49,
   "id": "633b3354",
   "metadata": {},
   "outputs": [],
   "source": [
    "x=np.linspace(0.43, 0.46, 10000)\n",
    "\n",
    "def plot(betas, nombres):\n",
    "    \n",
    "    for bet, nom in zip(betas, nombres):\n",
    "        \n",
    "        y=bet.pdf(x)\n",
    "        y_media=bet.mean()\n",
    "        y_std=bet.std()\n",
    "        \n",
    "        plt.plot(x, y, label='{}, tasa de conv: {:.6f} $\\pm$ {:.10f}'.format(nom, y_media, y_std))\n",
    "        plt.yticks([])\n",
    "        \n",
    "    plt.legend()\n",
    "    plt.show();"
   ]
  },
  {
   "cell_type": "code",
   "execution_count": 50,
   "id": "6f729c18",
   "metadata": {},
   "outputs": [
    {
     "data": {
      "image/png": "[encoded data removed]",
      "text/plain": [
       "<Figure size 640x480 with 1 Axes>"
      ]
     },
     "metadata": {},
     "output_type": "display_data"
    }
   ],
   "source": [
    "plot(ret1, [\"Retencion 30\", \"Retencion 40\"])"
   ]
  },
  {
   "cell_type": "code",
   "execution_count": 34,
   "id": "51b5ea9d",
   "metadata": {},
   "outputs": [
    {
     "data": {
      "text/plain": [
       "-1.3175098158249858"
      ]
     },
     "execution_count": 34,
     "metadata": {},
     "output_type": "execute_result"
    }
   ],
   "source": [
    "salto= (beta_40.mean()- beta_30.mean())/beta_30.mean()\n",
    "salto*100"
   ]
  },
  {
   "cell_type": "code",
   "execution_count": 35,
   "id": "9c493b3b",
   "metadata": {},
   "outputs": [
    {
     "data": {
      "text/plain": [
       "96.27939748515354"
      ]
     },
     "execution_count": 35,
     "metadata": {},
     "output_type": "execute_result"
    }
   ],
   "source": [
    "calc_prob(beta_30, beta_40) *100"
   ]
  },
  {
   "cell_type": "code",
   "execution_count": 36,
   "id": "a048a711",
   "metadata": {},
   "outputs": [
    {
     "name": "stdout",
     "output_type": "stream",
     "text": [
      "0.19021520289919913 0.18201402475214878\n"
     ]
    }
   ],
   "source": [
    "# testeo para retention_7\n",
    "aa_30, ba_30 = ret307[1]+1, 1+44700-ret307[1]\n",
    "ab_40, bb_40 = ret407[1]+1, 1+45489-ret407[1]\n",
    "\n",
    "beta_307 = beta(aa_30, ba_30)\n",
    "beta_407 = beta(ab_40, bb_40)\n",
    "\n",
    "print(beta_307.mean(),beta_407.mean())\n",
    "ret2= beta_307,beta_407"
   ]
  },
  {
   "cell_type": "code",
   "execution_count": 51,
   "id": "236bd4ca",
   "metadata": {},
   "outputs": [],
   "source": [
    "x=np.linspace(0.17, 0.20, 10000)\n"
   ]
  },
  {
   "cell_type": "code",
   "execution_count": 52,
   "id": "0cecbdcc",
   "metadata": {},
   "outputs": [
    {
     "data": {
      "image/png": "[encoded data removed]",
      "text/plain": [
       "<Figure size 640x480 with 1 Axes>"
      ]
     },
     "metadata": {},
     "output_type": "display_data"
    }
   ],
   "source": [
    "plot(ret2,[\"Retencion 30\", \"Retencion 40\"])"
   ]
  },
  {
   "cell_type": "code",
   "execution_count": 38,
   "id": "30072bed",
   "metadata": {},
   "outputs": [
    {
     "data": {
      "text/plain": [
       "-4.311526114658881"
      ]
     },
     "execution_count": 38,
     "metadata": {},
     "output_type": "execute_result"
    }
   ],
   "source": [
    "salto2 =  (beta_407.mean() - beta_307.mean())/beta_307.mean()\n",
    "salto2*100"
   ]
  },
  {
   "cell_type": "code",
   "execution_count": 39,
   "id": "6b261bb3",
   "metadata": {},
   "outputs": [
    {
     "data": {
      "text/plain": [
       "99.92226613235505"
      ]
     },
     "execution_count": 39,
     "metadata": {},
     "output_type": "execute_result"
    }
   ],
   "source": [
    "calc_prob(beta_307, beta_407)*100"
   ]
  },
  {
   "cell_type": "code",
   "execution_count": 40,
   "id": "cooked-magnet",
   "metadata": {},
   "outputs": [
    {
     "data": {
      "text/plain": [
       "'\\nFijándonos en la retención a un día tenemos un 96% de probabilidad de que reduzca un 1,3% que la puerta esté en el nivel 30 o en el 40. \\n\\nCon respecto a la retención a una semana hay una probabilidad del 99% de que la colocación de la puerta en el nivel 40 frente a ponerla en el\\n30 reduzca dicha retención en un 4,31%\\n\\n'"
      ]
     },
     "execution_count": 40,
     "metadata": {},
     "output_type": "execute_result"
    }
   ],
   "source": [
    "# conclusiones\n",
    "# Explica detalladamente las conclusiones obtenidas de. tu testeo.\n",
    "'''\n",
    "Fijándonos en la retención a un día tenemos un 96% de probabilidad de que reduzca un 1,3% que la puerta esté en el nivel 30 o en el 40. \n",
    "\n",
    "Con respecto a la retención a una semana hay una probabilidad del 99% de que la colocación de la puerta en el nivel 40 frente a ponerla en el\n",
    "30 reduzca dicha retención en un 4,31%\n",
    "\n",
    "'''"
   ]
  }
 ],
 "metadata": {
  "finalized": {
   "timestamp": 1642857010293,
   "trusted": true
  },
  "kernelspec": {
   "display_name": "base",
   "language": "python",
   "name": "python3"
  },
  "language_info": {
   "codemirror_mode": {
    "name": "ipython",
    "version": 3
   },
   "file_extension": ".py",
   "mimetype": "text/x-python",
   "name": "python",
   "nbconvert_exporter": "python",
   "pygments_lexer": "ipython3",
   "version": "3.9.13"
  },
  "toc": {
   "base_numbering": 1,
   "nav_menu": {},
   "number_sections": true,
   "sideBar": true,
   "skip_h1_title": false,
   "title_cell": "Table of Contents",
   "title_sidebar": "Contents",
   "toc_cell": true,
   "toc_position": {},
   "toc_section_display": true,
   "toc_window_display": false
  },
  "varInspector": {
   "cols": {
    "lenName": 16,
    "lenType": 16,
    "lenVar": 40
   },
   "kernels_config": {
    "python": {
     "delete_cmd_postfix": "",
     "delete_cmd_prefix": "del ",
     "library": "var_list.py",
     "varRefreshCmd": "print(var_dic_list())"
    },
    "r": {
     "delete_cmd_postfix": ") ",
     "delete_cmd_prefix": "rm(",
     "library": "var_list.r",
     "varRefreshCmd": "cat(var_dic_list()) "
    }
   },
   "types_to_exclude": [
    "module",
    "function",
    "builtin_function_or_method",
    "instance",
    "_Feature"
   ],
   "window_display": false
  }
 },
 "nbformat": 4,
 "nbformat_minor": 5
}
