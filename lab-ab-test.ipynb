{
 "cells": [
  {
   "attachments": {},
   "cell_type": "markdown",
   "id": "angry-pearl",
   "metadata": {
    "toc": true
   },
   "source": [
    "<h1>Table of Contents<span class=\"tocSkip\"></span></h1>\n",
    "<div class=\"toc\"><ul class=\"toc-item\"><li><span><a href=\"#AB-Testing\" data-toc-modified-id=\"AB-Testing-1\"><span class=\"toc-item-num\">1&nbsp;&nbsp;</span>AB-Testing</a></span></li></ul></div>"
   ]
  },
  {
   "attachments": {},
   "cell_type": "markdown",
   "id": "c92ba6e0",
   "metadata": {},
   "source": [
    "# AB-Testing\n",
    "\n",
    "![cats](images/cats.jpeg)\n",
    "\n",
    "\n",
    "Imaginad que somos los cientificos de datos de la empresa de videojuegos Tactile Entertainment. Los desarrolladores del juego Cookie Cats pretenden introducir un cambio en el juego para aumentar la retencion de los jugadores. En cierto nivel del juego los jugadores se encuentran una puerta que les obliga a esperar o a pagar la app. Actualmente la puerta se encuentra en nivel 30 y se pretende pasar al nivel 40, para comprobar la retencion a 1 y 7 dias. Antes de realizar el cambio definitivo en el juego se raliza un test AB.\n",
    "\n",
    "Los datos estan alojados en `data/cookie_cats.csv`. Nuestro grupo de control sera la version actual `gate_30` y el grupo de tratamiento sera la version `gate_40`. Debemos realizar el test para 1 dia de retencion `retention_1` y para 7 dias `retention_7`."
   ]
  },
  {
   "cell_type": "code",
   "execution_count": 1,
   "id": "ac3b2f52",
   "metadata": {},
   "outputs": [],
   "source": [
    "# librerias\n",
    "\n",
    "import pandas as pd\n",
    "import numpy as np\n",
    "\n",
    "from statsmodels.stats.proportion import proportions_ztest, proportion_confint\n",
    "from scipy.stats import norm, sem\n",
    "\n",
    "import pylab as plt"
   ]
  },
  {
   "cell_type": "code",
   "execution_count": 2,
   "id": "7fe515c2",
   "metadata": {},
   "outputs": [
    {
     "data": {
      "text/html": [
       "<div>\n",
       "<style scoped>\n",
       "    .dataframe tbody tr th:only-of-type {\n",
       "        vertical-align: middle;\n",
       "    }\n",
       "\n",
       "    .dataframe tbody tr th {\n",
       "        vertical-align: top;\n",
       "    }\n",
       "\n",
       "    .dataframe thead th {\n",
       "        text-align: right;\n",
       "    }\n",
       "</style>\n",
       "<table border=\"1\" class=\"dataframe\">\n",
       "  <thead>\n",
       "    <tr style=\"text-align: right;\">\n",
       "      <th></th>\n",
       "      <th>userid</th>\n",
       "      <th>version</th>\n",
       "      <th>sum_gamerounds</th>\n",
       "      <th>retention_1</th>\n",
       "      <th>retention_7</th>\n",
       "    </tr>\n",
       "  </thead>\n",
       "  <tbody>\n",
       "    <tr>\n",
       "      <th>0</th>\n",
       "      <td>116</td>\n",
       "      <td>gate_30</td>\n",
       "      <td>3</td>\n",
       "      <td>False</td>\n",
       "      <td>False</td>\n",
       "    </tr>\n",
       "    <tr>\n",
       "      <th>1</th>\n",
       "      <td>337</td>\n",
       "      <td>gate_30</td>\n",
       "      <td>38</td>\n",
       "      <td>True</td>\n",
       "      <td>False</td>\n",
       "    </tr>\n",
       "    <tr>\n",
       "      <th>2</th>\n",
       "      <td>377</td>\n",
       "      <td>gate_40</td>\n",
       "      <td>165</td>\n",
       "      <td>True</td>\n",
       "      <td>False</td>\n",
       "    </tr>\n",
       "    <tr>\n",
       "      <th>3</th>\n",
       "      <td>483</td>\n",
       "      <td>gate_40</td>\n",
       "      <td>1</td>\n",
       "      <td>False</td>\n",
       "      <td>False</td>\n",
       "    </tr>\n",
       "    <tr>\n",
       "      <th>4</th>\n",
       "      <td>488</td>\n",
       "      <td>gate_40</td>\n",
       "      <td>179</td>\n",
       "      <td>True</td>\n",
       "      <td>True</td>\n",
       "    </tr>\n",
       "  </tbody>\n",
       "</table>\n",
       "</div>"
      ],
      "text/plain": [
       "   userid  version  sum_gamerounds  retention_1  retention_7\n",
       "0     116  gate_30               3        False        False\n",
       "1     337  gate_30              38         True        False\n",
       "2     377  gate_40             165         True        False\n",
       "3     483  gate_40               1        False        False\n",
       "4     488  gate_40             179         True         True"
      ]
     },
     "execution_count": 2,
     "metadata": {},
     "output_type": "execute_result"
    }
   ],
   "source": [
    "# datos\n",
    "data = pd.read_csv(r\"C:\\Users\\Lorenzo\\Desktop\\6.4-lab_ab_testing\\data\\cookie_cats.csv\")\n",
    "data.head()"
   ]
  },
  {
   "cell_type": "code",
   "execution_count": 3,
   "id": "55b9f523",
   "metadata": {},
   "outputs": [
    {
     "name": "stdout",
     "output_type": "stream",
     "text": [
      "<class 'pandas.core.frame.DataFrame'>\n",
      "RangeIndex: 90189 entries, 0 to 90188\n",
      "Data columns (total 5 columns):\n",
      " #   Column          Non-Null Count  Dtype \n",
      "---  ------          --------------  ----- \n",
      " 0   userid          90189 non-null  int64 \n",
      " 1   version         90189 non-null  object\n",
      " 2   sum_gamerounds  90189 non-null  int64 \n",
      " 3   retention_1     90189 non-null  bool  \n",
      " 4   retention_7     90189 non-null  bool  \n",
      "dtypes: bool(2), int64(2), object(1)\n",
      "memory usage: 2.2+ MB\n"
     ]
    }
   ],
   "source": [
    "# transformacion\n",
    "data.info()"
   ]
  },
  {
   "cell_type": "code",
   "execution_count": 4,
   "id": "f2e6147a",
   "metadata": {},
   "outputs": [
    {
     "name": "stdout",
     "output_type": "stream",
     "text": [
      "20034\n",
      "8502\n",
      "44700\n",
      "44700\n"
     ]
    }
   ],
   "source": [
    "# Control\n",
    "g30 = data[data['version'] == 'gate_30']\n",
    "g30_r1 = g30['retention_1']\n",
    "g30_r7 = g30['retention_7']\n",
    "print(sum(g30_r1))\n",
    "print(sum(g30_r7))\n",
    "print(len(g30_r1))\n",
    "print(len(g30_r7))"
   ]
  },
  {
   "cell_type": "code",
   "execution_count": 5,
   "id": "4c4c2f7d",
   "metadata": {},
   "outputs": [
    {
     "name": "stdout",
     "output_type": "stream",
     "text": [
      "20119\n",
      "8279\n",
      "45489\n",
      "45489\n"
     ]
    }
   ],
   "source": [
    "#Test\n",
    "g40 = data[data['version'] == 'gate_40']\n",
    "g40_r1 = g40['retention_1']\n",
    "g40_r7 = g40['retention_7']\n",
    "print(sum(g40_r1))\n",
    "print(sum(g40_r7))\n",
    "print(len(g40_r1))\n",
    "print(len(g40_r7))"
   ]
  },
  {
   "cell_type": "code",
   "execution_count": 9,
   "id": "38f422cb",
   "metadata": {},
   "outputs": [
    {
     "name": "stdout",
     "output_type": "stream",
     "text": [
      "Tasas r1: Tcontrol 0.4481879194630872 Ttest 0.44228274967574577\n",
      "Tasas r7: Tcontrol 0.19020134228187918 Ttest 0.18200004396667327\n"
     ]
    }
   ],
   "source": [
    "# muestreo\n",
    "\n",
    "CR_r1_control = sum(g30_r1)/len(g30_r1)\n",
    "CR_r1_test = sum(g40_r1)/len(g40_r1)\n",
    "\n",
    "\n",
    "CR_r7_control = sum(g30_r7)/len(g30_r7)\n",
    "CR_r7_test = sum(g40_r7)/len(g40_r7)\n",
    "\n",
    "print('Tasas r1:', 'Tcontrol', CR_r1_control, 'Ttest', CR_r1_test)\n",
    "print('Tasas r7:','Tcontrol', CR_r7_control, 'Ttest', CR_r7_test)"
   ]
  },
  {
   "attachments": {},
   "cell_type": "markdown",
   "id": "9f371567",
   "metadata": {},
   "source": [
    "### testeo para retention_1"
   ]
  },
  {
   "cell_type": "code",
   "execution_count": 10,
   "id": "5b90c429",
   "metadata": {},
   "outputs": [
    {
     "name": "stdout",
     "output_type": "stream",
     "text": [
      "<scipy.stats._distn_infrastructure.rv_continuous_frozen object at 0x0000027FA0F95310>\n",
      "<scipy.stats._distn_infrastructure.rv_continuous_frozen object at 0x0000027FA0F954F0>\n"
     ]
    }
   ],
   "source": [
    "\n",
    "# se crean funciones beta\n",
    "# aprioris\n",
    "\n",
    "from bayes import *\n",
    "\n",
    "a_C, b_C = sum(g30_r1)+1, len(g30_r1)-sum(g30_r1)+1\n",
    "a_T, b_T = sum(g40_r1)+1, len(g40_r1)-sum(g40_r1)+1\n",
    "\n",
    "beta_C=beta(a_C, b_C)  # control\n",
    "beta_T=beta(a_T, b_T)  # test\n",
    "print(beta_C)\n",
    "print(beta_T)"
   ]
  },
  {
   "cell_type": "code",
   "execution_count": 11,
   "id": "00f1c29d",
   "metadata": {},
   "outputs": [
    {
     "data": {
      "text/plain": [
       "-0.013175098158249857"
      ]
     },
     "execution_count": 11,
     "metadata": {},
     "output_type": "execute_result"
    }
   ],
   "source": [
    "# diferencia normalizada de las medias de test y control\n",
    "\n",
    "salto=(beta_T.mean()-beta_C.mean())/beta_C.mean()\n",
    "salto"
   ]
  },
  {
   "cell_type": "code",
   "execution_count": 12,
   "id": "65be6e76",
   "metadata": {},
   "outputs": [
    {
     "data": {
      "text/plain": [
       "0.9627939748515354"
      ]
     },
     "execution_count": 12,
     "metadata": {},
     "output_type": "execute_result"
    }
   ],
   "source": [
    "prob=calc_prob(beta_C, beta_T)  # esta funcion es la clave\n",
    "                                # Como el salto es negativo, en la formula pongo beta control antes, nose pk pero funciona(lógica por intuición).\n",
    "prob"
   ]
  },
  {
   "cell_type": "code",
   "execution_count": 13,
   "id": "6abfac7f",
   "metadata": {},
   "outputs": [
    {
     "name": "stdout",
     "output_type": "stream",
     "text": [
      "El test aumenta la tasa de conversion en un -1.32%,\n",
      "con una probabilidad del 96.28%\n"
     ]
    }
   ],
   "source": [
    "print (\n",
    "'''El test aumenta la tasa de retorno en un {:2.2f}%,\n",
    "con una probabilidad del {:2.2f}%'''\n",
    "    .format(salto*100, prob*100)\n",
    ")"
   ]
  },
  {
   "cell_type": "code",
   "execution_count": 24,
   "id": "219ae63e",
   "metadata": {},
   "outputs": [
    {
     "name": "stdout",
     "output_type": "stream",
     "text": [
      "0.4481879194630872 0.44228274967574577\n"
     ]
    },
    {
     "data": {
      "image/png": "[encoded data removed]",
      "text/plain": [
       "<Figure size 640x480 with 1 Axes>"
      ]
     },
     "metadata": {},
     "output_type": "display_data"
    }
   ],
   "source": [
    "print (CR_r1_control , CR_r1_test)\n",
    "plot([beta_C, beta_T], ['Control', 'Test'], linf=0.432, lsup=0.4587)"
   ]
  },
  {
   "attachments": {},
   "cell_type": "markdown",
   "id": "79e1c97b",
   "metadata": {},
   "source": [
    "### testeo para retention_7\n"
   ]
  },
  {
   "cell_type": "code",
   "execution_count": 110,
   "id": "302f0042",
   "metadata": {},
   "outputs": [
    {
     "name": "stdout",
     "output_type": "stream",
     "text": [
      "Tasas r1: Tcontrol 0.4481879194630872 Ttest 0.44228274967574577\n",
      "Tasas r7: Tcontrol 0.19020134228187918 Ttest 0.18200004396667327\n"
     ]
    }
   ],
   "source": [
    "CR_r1_control = sum(g30_r1)/len(g30_r1)\n",
    "CR_r1_test = sum(g40_r1)/len(g40_r1)\n",
    "\n",
    "\n",
    "CR_r7_control = sum(g30_r7)/len(g30_r7)\n",
    "CR_r7_test = sum(g40_r7)/len(g40_r7)\n",
    "\n",
    "print('Tasas r1:', 'Tcontrol', CR_r1_control, 'Ttest', CR_r1_test)\n",
    "print('Tasas r7:','Tcontrol', CR_r7_control, 'Ttest', CR_r7_test)"
   ]
  },
  {
   "cell_type": "code",
   "execution_count": 111,
   "id": "a048a711",
   "metadata": {},
   "outputs": [],
   "source": [
    "# se crean funciones beta\n",
    "# aprioris\n",
    "\n",
    "a_C, b_C = sum(g30_r7)+1, len(g30_r7)-sum(g30_r7)+1\n",
    "a_T, b_T = sum(g40_r7)+1, len(g40_r7)-sum(g40_r7)+1\n",
    "\n",
    "beta_C=beta(a_C, b_C)  # control\n",
    "beta_T=beta(a_T, b_T)  # test\n"
   ]
  },
  {
   "cell_type": "code",
   "execution_count": 113,
   "id": "ad973aac",
   "metadata": {},
   "outputs": [
    {
     "data": {
      "text/plain": [
       "-0.04311526114658881"
      ]
     },
     "execution_count": 113,
     "metadata": {},
     "output_type": "execute_result"
    }
   ],
   "source": [
    "salto=(beta_T.mean()-beta_C.mean())/beta_C.mean()\n",
    "salto"
   ]
  },
  {
   "cell_type": "code",
   "execution_count": 115,
   "id": "1c273e19",
   "metadata": {},
   "outputs": [
    {
     "data": {
      "text/plain": [
       "0.9992226613235504"
      ]
     },
     "execution_count": 115,
     "metadata": {},
     "output_type": "execute_result"
    }
   ],
   "source": [
    "prob=calc_prob(beta_C, beta_T)  # esta funcion es la clave\n",
    "\n",
    "prob"
   ]
  },
  {
   "cell_type": "code",
   "execution_count": 116,
   "id": "69a8bad2",
   "metadata": {},
   "outputs": [
    {
     "name": "stdout",
     "output_type": "stream",
     "text": [
      "El test aumenta la tasa de conversion en un -4.31%,\n",
      "con una probabilidad del 99.92%\n"
     ]
    }
   ],
   "source": [
    "\n",
    "print (\n",
    "'''El test aumenta la tasa de retorno en un {:2.2f}%,\n",
    "con una probabilidad del {:2.2f}%'''\n",
    "    .format(salto*100, prob*100)\n",
    ")"
   ]
  },
  {
   "cell_type": "code",
   "execution_count": 123,
   "id": "27b632e1",
   "metadata": {},
   "outputs": [
    {
     "name": "stdout",
     "output_type": "stream",
     "text": [
      "0.19020134228187918 0.18200004396667327\n"
     ]
    },
    {
     "data": {
      "image/png": "[encoded data removed]",
      "text/plain": [
       "<Figure size 640x480 with 1 Axes>"
      ]
     },
     "metadata": {},
     "output_type": "display_data"
    }
   ],
   "source": [
    "print (CR_r7_control, CR_r7_test)\n",
    "plot([beta_C, beta_T], ['Control', 'Test'],linf=0.175,  lsup=0.2)"
   ]
  },
  {
   "cell_type": "code",
   "execution_count": null,
   "id": "cooked-magnet",
   "metadata": {},
   "outputs": [],
   "source": [
    "# conclusiones\n",
    "# Explica detalladamente las conclusiones obtenidas de. tu testeo."
   ]
  },
  {
   "attachments": {},
   "cell_type": "markdown",
   "id": "b01f60ed",
   "metadata": {},
   "source": [
    "## CONCLUSIONES:\n",
    "\n",
    "### R1:\n",
    "#### El test aumenta la tasa de retorno en un -1.32%, con una probabilidad del 96.28%\n",
    "#### Podemos concluir que al 96,28% de probabilidad la nueva actualizacion de desbloqueo de niveles va a bajar, la tasa de retorno al juego en el primer dia, en un 1.32% de media.\n",
    "### R2:\n",
    "#### El test aumenta la tasa de retorno en un -4.31%, con una probabilidad del 99.92%\n",
    "#### Podemos concluir que al 99,92% de probabilidad la nueva actualizacion de desbloqueo de niveles va a bajar, la tasa de retorno al juego en el séptimo dia, en un 4,31% de media."
   ]
  }
 ],
 "metadata": {
  "finalized": {
   "timestamp": 1642857010293,
   "trusted": true
  },
  "kernelspec": {
   "display_name": "base",
   "language": "python",
   "name": "python3"
  },
  "language_info": {
   "codemirror_mode": {
    "name": "ipython",
    "version": 3
   },
   "file_extension": ".py",
   "mimetype": "text/x-python",
   "name": "python",
   "nbconvert_exporter": "python",
   "pygments_lexer": "ipython3",
   "version": "3.9.13"
  },
  "toc": {
   "base_numbering": 1,
   "nav_menu": {},
   "number_sections": true,
   "sideBar": true,
   "skip_h1_title": false,
   "title_cell": "Table of Contents",
   "title_sidebar": "Contents",
   "toc_cell": true,
   "toc_position": {},
   "toc_section_display": true,
   "toc_window_display": false
  },
  "varInspector": {
   "cols": {
    "lenName": 16,
    "lenType": 16,
    "lenVar": 40
   },
   "kernels_config": {
    "python": {
     "delete_cmd_postfix": "",
     "delete_cmd_prefix": "del ",
     "library": "var_list.py",
     "varRefreshCmd": "print(var_dic_list())"
    },
    "r": {
     "delete_cmd_postfix": ") ",
     "delete_cmd_prefix": "rm(",
     "library": "var_list.r",
     "varRefreshCmd": "cat(var_dic_list()) "
    }
   },
   "types_to_exclude": [
    "module",
    "function",
    "builtin_function_or_method",
    "instance",
    "_Feature"
   ],
   "window_display": false
  }
 },
 "nbformat": 4,
 "nbformat_minor": 5
}
