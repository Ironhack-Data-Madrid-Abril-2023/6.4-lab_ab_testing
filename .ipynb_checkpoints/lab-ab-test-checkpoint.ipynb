{
 "cells": [
  {
   "cell_type": "markdown",
   "id": "angry-pearl",
   "metadata": {
    "toc": true
   },
   "source": [
    "<h1>Table of Contents<span class=\"tocSkip\"></span></h1>\n",
    "<div class=\"toc\"><ul class=\"toc-item\"><li><span><a href=\"#AB-Testing\" data-toc-modified-id=\"AB-Testing-1\"><span class=\"toc-item-num\">1&nbsp;&nbsp;</span>AB-Testing</a></span></li></ul></div>"
   ]
  },
  {
   "cell_type": "markdown",
   "id": "c92ba6e0",
   "metadata": {},
   "source": [
    "# AB-Testing\n",
    "\n",
    "![cats](images/cats.jpeg)\n",
    "\n",
    "\n",
    "Imaginad que somos los cientificos de datos de la empresa de videojuegos Tactile Entertainment. Los desarrolladores del juego Cookie Cats pretenden introducir un cambio en el juego para aumentar la retencion de los jugadores. En cierto nivel del juego los jugadores se encuentran una puerta que les obliga a esperar o a pagar la app. Actualmente la puerta se encuentra en nivel 30 y se pretende pasar al nivel 40, para comprobar la retencion a 1 y 7 dias. Antes de realizar el cambio definitivo en el juego se raliza un test AB.\n",
    "\n",
    "Los datos estan alojados en `data/cookie_cats.csv`. Nuestro grupo de control sera la version actual `gate_30` y el grupo de tratamiento sera la version `gate_40`. Debemos realizar el test para 1 dia de retencion `retention_1` y para 7 dias `retention_7`."
   ]
  },
  {
   "cell_type": "code",
   "execution_count": 12,
   "id": "ac3b2f52",
   "metadata": {},
   "outputs": [],
   "source": [
    "import numpy as np\n",
    "import pandas as pd\n",
    "\n",
    "import scipy.stats as stats\n",
    "import statsmodels.stats.api as sms\n",
    "\n",
    "import pylab as plt\n",
    "import seaborn as sns\n",
    "\n",
    "%matplotlib inline"
   ]
  },
  {
   "cell_type": "code",
   "execution_count": 56,
   "id": "463c94e3",
   "metadata": {},
   "outputs": [],
   "source": [
    "from bayes import *"
   ]
  },
  {
   "cell_type": "code",
   "execution_count": 2,
   "id": "7fe515c2",
   "metadata": {},
   "outputs": [
    {
     "data": {
      "text/html": [
       "<div>\n",
       "<style scoped>\n",
       "    .dataframe tbody tr th:only-of-type {\n",
       "        vertical-align: middle;\n",
       "    }\n",
       "\n",
       "    .dataframe tbody tr th {\n",
       "        vertical-align: top;\n",
       "    }\n",
       "\n",
       "    .dataframe thead th {\n",
       "        text-align: right;\n",
       "    }\n",
       "</style>\n",
       "<table border=\"1\" class=\"dataframe\">\n",
       "  <thead>\n",
       "    <tr style=\"text-align: right;\">\n",
       "      <th></th>\n",
       "      <th>userid</th>\n",
       "      <th>version</th>\n",
       "      <th>sum_gamerounds</th>\n",
       "      <th>retention_1</th>\n",
       "      <th>retention_7</th>\n",
       "    </tr>\n",
       "  </thead>\n",
       "  <tbody>\n",
       "    <tr>\n",
       "      <th>0</th>\n",
       "      <td>116</td>\n",
       "      <td>gate_30</td>\n",
       "      <td>3</td>\n",
       "      <td>False</td>\n",
       "      <td>False</td>\n",
       "    </tr>\n",
       "    <tr>\n",
       "      <th>1</th>\n",
       "      <td>337</td>\n",
       "      <td>gate_30</td>\n",
       "      <td>38</td>\n",
       "      <td>True</td>\n",
       "      <td>False</td>\n",
       "    </tr>\n",
       "    <tr>\n",
       "      <th>2</th>\n",
       "      <td>377</td>\n",
       "      <td>gate_40</td>\n",
       "      <td>165</td>\n",
       "      <td>True</td>\n",
       "      <td>False</td>\n",
       "    </tr>\n",
       "    <tr>\n",
       "      <th>3</th>\n",
       "      <td>483</td>\n",
       "      <td>gate_40</td>\n",
       "      <td>1</td>\n",
       "      <td>False</td>\n",
       "      <td>False</td>\n",
       "    </tr>\n",
       "    <tr>\n",
       "      <th>4</th>\n",
       "      <td>488</td>\n",
       "      <td>gate_40</td>\n",
       "      <td>179</td>\n",
       "      <td>True</td>\n",
       "      <td>True</td>\n",
       "    </tr>\n",
       "  </tbody>\n",
       "</table>\n",
       "</div>"
      ],
      "text/plain": [
       "   userid  version  sum_gamerounds  retention_1  retention_7\n",
       "0     116  gate_30               3        False        False\n",
       "1     337  gate_30              38         True        False\n",
       "2     377  gate_40             165         True        False\n",
       "3     483  gate_40               1        False        False\n",
       "4     488  gate_40             179         True         True"
      ]
     },
     "execution_count": 2,
     "metadata": {},
     "output_type": "execute_result"
    }
   ],
   "source": [
    "# datos\n",
    "\n",
    "df=pd.read_csv('data/cookie_cats.csv')\n",
    "df.head()"
   ]
  },
  {
   "cell_type": "code",
   "execution_count": null,
   "id": "b36f0f4f",
   "metadata": {},
   "outputs": [],
   "source": []
  },
  {
   "cell_type": "code",
   "execution_count": 45,
   "id": "0fc33e64",
   "metadata": {},
   "outputs": [
    {
     "data": {
      "text/plain": [
       "version\n",
       "gate_40    45489\n",
       "gate_30    44700\n",
       "Name: count, dtype: int64"
      ]
     },
     "execution_count": 45,
     "metadata": {},
     "output_type": "execute_result"
    }
   ],
   "source": [
    "df[\"version\"].value_counts()"
   ]
  },
  {
   "cell_type": "code",
   "execution_count": 39,
   "id": "f2e6147a",
   "metadata": {},
   "outputs": [],
   "source": [
    "# saco el número de jugadores que tienen la puerta en la 30 y 40 y vuelven al día\n",
    "\n",
    "# saco el número de jugadores que tienen la puerta en la 30 y 40 y vuelven al séptimo día\n",
    "\n",
    "ret301= ((df[\"version\"]==\"gate_30\") & (df[\"retention_1\"]==True)).value_counts()\n",
    "ret401=((df[\"version\"]==\"gate_40\") & (df[\"retention_1\"]==True)).value_counts()\n",
    "ret307=((df[\"version\"]==\"gate_30\") & (df[\"retention_7\"]==True)).value_counts()\n",
    "ret407 = ((df[\"version\"]==\"gate_40\") & (df[\"retention_7\"]==True)).value_counts()"
   ]
  },
  {
   "cell_type": "code",
   "execution_count": 40,
   "id": "b74b7bd6",
   "metadata": {},
   "outputs": [
    {
     "data": {
      "text/plain": [
       "False    70155\n",
       "True     20034\n",
       "Name: count, dtype: int64"
      ]
     },
     "execution_count": 40,
     "metadata": {},
     "output_type": "execute_result"
    }
   ],
   "source": [
    "ret301"
   ]
  },
  {
   "cell_type": "code",
   "execution_count": 43,
   "id": "b9b08a95",
   "metadata": {},
   "outputs": [
    {
     "name": "stdout",
     "output_type": "stream",
     "text": [
      "20034\n",
      "20119\n",
      "8502\n",
      "8279\n"
     ]
    }
   ],
   "source": [
    "# esto es el que usaremos, poniendole el 1\n",
    "\n",
    "print(ret301[1])\n",
    "print(ret401[1])\n",
    "print(ret307[1])\n",
    "print(ret407[1])"
   ]
  },
  {
   "cell_type": "code",
   "execution_count": 50,
   "id": "96731a23",
   "metadata": {},
   "outputs": [
    {
     "data": {
      "text/plain": [
       "(<scipy.stats._distn_infrastructure.rv_continuous_frozen at 0x7fc755cc2ac0>,\n",
       " <scipy.stats._distn_infrastructure.rv_continuous_frozen at 0x7fc74c45c610>)"
      ]
     },
     "execution_count": 50,
     "metadata": {},
     "output_type": "execute_result"
    }
   ],
   "source": [
    "from scipy.stats import beta\n",
    "import numpy as np\n",
    "from math import lgamma\n",
    "import matplotlib.pyplot as plt\n",
    "\n",
    "\n",
    "# Ahora voy a calcular las betas\n",
    "\n",
    "# Antes, necesito las aprioris\n",
    "\n",
    "# a_C, b_C = convs_ctrl+1, imps_ctrl-convs_ctrl+1\n",
    "# a_T, b_T = convs_test+1, imps_test-convs_test+1\n",
    "\n",
    "# testeo para retention_1\n",
    "a30, b30= ret301[1]+1, 44700-ret301[1]+1\n",
    "a40, b40 = ret401[1]+1, 45489-ret401[1]+1\n",
    "\n",
    "# beta_C=beta(a_C, b_C)  # control\n",
    "# beta_T=beta(a_T, b_T)  # test\n",
    "\n",
    "beta_30= beta(a30, b30)\n",
    "beta_40=beta(a40, b40)\n",
    "ret1 = beta_30, beta_40\n",
    "\n",
    "ret1"
   ]
  },
  {
   "cell_type": "code",
   "execution_count": 51,
   "id": "cc349266",
   "metadata": {},
   "outputs": [
    {
     "data": {
      "text/plain": [
       "(0.44819023757326293, 0.44228528719966587)"
      ]
     },
     "execution_count": 51,
     "metadata": {},
     "output_type": "execute_result"
    }
   ],
   "source": [
    "beta_30.mean(), beta_40.mean()"
   ]
  },
  {
   "cell_type": "code",
   "execution_count": 53,
   "id": "38f422cb",
   "metadata": {},
   "outputs": [
    {
     "data": {
      "image/png": "[encoded data removed]",
      "text/plain": [
       "<Figure size 640x480 with 1 Axes>"
      ]
     },
     "metadata": {},
     "output_type": "display_data"
    }
   ],
   "source": [
    "x=np.linspace(0.43, 0.46, 10000)\n",
    "\n",
    "def plot(betas, nombres):\n",
    "    \n",
    "    for bet, nom in zip(betas, nombres):\n",
    "        \n",
    "        y=bet.pdf(x)\n",
    "        y_media=bet.mean()\n",
    "        y_std=bet.std()\n",
    "        \n",
    "        plt.plot(x, y, label='{}, tasa de conv: {:.6f} $\\pm$ {:.10f}'.format(nom, y_media, y_std))\n",
    "        plt.yticks([])\n",
    "        \n",
    "    plt.legend()\n",
    "    plt.show();\n",
    "    \n",
    "plot(ret1, [\"Retencion 30\", \"Retencion 40\"])"
   ]
  },
  {
   "cell_type": "code",
   "execution_count": 54,
   "id": "5b90c429",
   "metadata": {},
   "outputs": [
    {
     "data": {
      "text/plain": [
       "-1.3175098158249858"
      ]
     },
     "execution_count": 54,
     "metadata": {},
     "output_type": "execute_result"
    }
   ],
   "source": [
    "# Ahora calculo el salto, que es la distancia entre las dos medias\n",
    "\n",
    "salto= (beta_40.mean()- beta_30.mean())/beta_30.mean()\n",
    "salto*100"
   ]
  },
  {
   "cell_type": "code",
   "execution_count": 57,
   "id": "a048a711",
   "metadata": {},
   "outputs": [
    {
     "data": {
      "text/plain": [
       "96.27939748515354"
      ]
     },
     "execution_count": 57,
     "metadata": {},
     "output_type": "execute_result"
    }
   ],
   "source": [
    "# La probabilidad de que el salto sea cierto\n",
    "\n",
    "calc_prob(beta_30, beta_40) *100"
   ]
  },
  {
   "cell_type": "code",
   "execution_count": 58,
   "id": "cooked-magnet",
   "metadata": {},
   "outputs": [],
   "source": [
    "# conclusiones\n",
    "# Explica detalladamente las conclusiones obtenidas de. tu testeo.\n",
    "\n",
    "\n",
    "# Mis conclusiones son que las personas que tienen la puerta en el nivel 30 tienen una tasa de conversión mayor que las que lo tienen en el 40\n",
    "\n",
    "# Esto quiere decir que es preferible que las pongamos en el 30 si queremos que vuelva a jugar más gente pasado un día, aunque la diferencia es muy pequeña"
   ]
  },
  {
   "cell_type": "code",
   "execution_count": null,
   "id": "f7703013",
   "metadata": {},
   "outputs": [],
   "source": []
  },
  {
   "cell_type": "code",
   "execution_count": null,
   "id": "cd3700ab",
   "metadata": {},
   "outputs": [],
   "source": []
  },
  {
   "cell_type": "code",
   "execution_count": null,
   "id": "069b3f78",
   "metadata": {},
   "outputs": [],
   "source": [
    "# Para los 7 días hacemos lo mismo"
   ]
  },
  {
   "cell_type": "code",
   "execution_count": 59,
   "id": "a6808b06",
   "metadata": {},
   "outputs": [
    {
     "name": "stdout",
     "output_type": "stream",
     "text": [
      "8502\n",
      "8279\n"
     ]
    }
   ],
   "source": [
    "ret307=((df[\"version\"]==\"gate_30\") & (df[\"retention_7\"]==True)).value_counts()\n",
    "ret407 = ((df[\"version\"]==\"gate_40\") & (df[\"retention_7\"]==True)).value_counts()\n",
    "print(ret307[1])\n",
    "print(ret407[1])"
   ]
  },
  {
   "cell_type": "code",
   "execution_count": 61,
   "id": "5b75a45e",
   "metadata": {},
   "outputs": [],
   "source": [
    "# Ahora voy a calcular las betas\n",
    "\n",
    "# Antes, necesito las aprioris\n",
    "\n",
    "# a_C, b_C = convs_ctrl+1, imps_ctrl-convs_ctrl+1\n",
    "# a_T, b_T = convs_test+1, imps_test-convs_test+1\n",
    "\n",
    "# testeo para retention_7\n",
    "a30, b30= ret307[1]+1, 44700-ret307[1]+1\n",
    "a40, b40 = ret407[1]+1, 45489-ret407[1]+1\n",
    "\n",
    "# beta_C=beta(a_C, b_C)  # control\n",
    "# beta_T=beta(a_T, b_T)  # test\n",
    "\n",
    "beta_30= beta(a30, b30)\n",
    "beta_40=beta(a40, b40)\n",
    "ret7 = beta_30, beta_40"
   ]
  },
  {
   "cell_type": "code",
   "execution_count": 68,
   "id": "fa391a98",
   "metadata": {},
   "outputs": [
    {
     "data": {
      "image/png": "[encoded data removed]",
      "text/plain": [
       "<Figure size 640x480 with 1 Axes>"
      ]
     },
     "metadata": {},
     "output_type": "display_data"
    }
   ],
   "source": [
    "x=np.linspace(0.16, 0.20, 10000)\n",
    "\n",
    "def plot(betas, nombres):\n",
    "    \n",
    "    for bet, nom in zip(betas, nombres):\n",
    "        \n",
    "        y=bet.pdf(x)\n",
    "        y_media=bet.mean()\n",
    "        y_std=bet.std()\n",
    "        \n",
    "        plt.plot(x, y, label='{}, tasa de conv: {:.6f} $\\pm$ {:.10f}'.format(nom, y_media, y_std))\n",
    "        plt.yticks([])\n",
    "        \n",
    "    plt.legend()\n",
    "    plt.show();\n",
    "    \n",
    "plot(ret1, [\"Retencion 30\", \"Retencion 40\"])"
   ]
  },
  {
   "cell_type": "code",
   "execution_count": 69,
   "id": "da0eca55",
   "metadata": {},
   "outputs": [
    {
     "data": {
      "text/plain": [
       "-4.311526114658881"
      ]
     },
     "execution_count": 69,
     "metadata": {},
     "output_type": "execute_result"
    }
   ],
   "source": [
    "# Ahora calculo el salto, que es la distancia entre las dos medias\n",
    "\n",
    "salto= (beta_40.mean()- beta_30.mean())/beta_30.mean()\n",
    "salto*100"
   ]
  },
  {
   "cell_type": "code",
   "execution_count": 70,
   "id": "541363ac",
   "metadata": {},
   "outputs": [
    {
     "data": {
      "text/plain": [
       "99.92226613235505"
      ]
     },
     "execution_count": 70,
     "metadata": {},
     "output_type": "execute_result"
    }
   ],
   "source": [
    "# La probabilidad de que el salto sea cierto\n",
    "\n",
    "calc_prob(beta_30, beta_40) *100"
   ]
  },
  {
   "cell_type": "code",
   "execution_count": null,
   "id": "e8c0c5d4",
   "metadata": {},
   "outputs": [],
   "source": [
    "# Conclusiones\n",
    "\n",
    "# Pasa lo mismo que en el caso anterior, el hecho de mover el gate a la puerta 40 no ayuda a que la gente vuelva tras el 7 dia"
   ]
  }
 ],
 "metadata": {
  "finalized": {
   "timestamp": 1642857010293,
   "trusted": true
  },
  "kernelspec": {
   "display_name": "Python 3 (ipykernel)",
   "language": "python",
   "name": "python3"
  },
  "language_info": {
   "codemirror_mode": {
    "name": "ipython",
    "version": 3
   },
   "file_extension": ".py",
   "mimetype": "text/x-python",
   "name": "python",
   "nbconvert_exporter": "python",
   "pygments_lexer": "ipython3",
   "version": "3.9.16"
  },
  "toc": {
   "base_numbering": 1,
   "nav_menu": {},
   "number_sections": true,
   "sideBar": true,
   "skip_h1_title": false,
   "title_cell": "Table of Contents",
   "title_sidebar": "Contents",
   "toc_cell": true,
   "toc_position": {},
   "toc_section_display": true,
   "toc_window_display": false
  },
  "varInspector": {
   "cols": {
    "lenName": 16,
    "lenType": 16,
    "lenVar": 40
   },
   "kernels_config": {
    "python": {
     "delete_cmd_postfix": "",
     "delete_cmd_prefix": "del ",
     "library": "var_list.py",
     "varRefreshCmd": "print(var_dic_list())"
    },
    "r": {
     "delete_cmd_postfix": ") ",
     "delete_cmd_prefix": "rm(",
     "library": "var_list.r",
     "varRefreshCmd": "cat(var_dic_list()) "
    }
   },
   "types_to_exclude": [
    "module",
    "function",
    "builtin_function_or_method",
    "instance",
    "_Feature"
   ],
   "window_display": false
  }
 },
 "nbformat": 4,
 "nbformat_minor": 5
}
